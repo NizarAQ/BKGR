{
 "cells": [
  {
   "cell_type": "code",
   "execution_count": 1,
   "id": "9e732170",
   "metadata": {},
   "outputs": [],
   "source": [
    "import requests\n",
    "from bs4 import BeautifulSoup\n",
    "\n",
    "from selenium import webdriver\n",
    "from selenium.webdriver.common.keys import Keys\n",
    "from selenium.webdriver.common.by import By\n",
    "from selenium.webdriver.common.action_chains import ActionChains\n",
    "from selenium.webdriver.common.keys import Keys\n",
    "\n",
    "import time\n",
    "from datetime import datetime\n",
    "from datetime import date\n",
    "\n",
    "import tqdm\n",
    "\n",
    "import pandas as pd\n",
    "\n",
    "import re"
   ]
  },
  {
   "cell_type": "code",
   "execution_count": 2,
   "id": "9629fd9e",
   "metadata": {},
   "outputs": [],
   "source": [
    "#Delete cache\n",
    "\n",
    "def delete_cache():\n",
    "    driver.execute_script(\"window.open('');\")\n",
    "    time.sleep(2)\n",
    "    driver.switch_to.window(driver.window_handles[-1])\n",
    "    time.sleep(2)\n",
    "    driver.get('chrome://settings/cleardriverData')\n",
    "    time.sleep(5)\n",
    "    actions = ActionChains(driver) \n",
    "    actions.send_keys(Keys.TAB * 3 + Keys.DOWN * 3) # send right combination\n",
    "    actions.perform()\n",
    "    time.sleep(5)\n",
    "    actions = ActionChains(driver) \n",
    "    actions.send_keys(Keys.TAB * 4 + Keys.ENTER) # confirm\n",
    "    actions.perform()\n",
    "    time.sleep(5) # wait some time to finish\n",
    "    driver.close() # close this tab\n",
    "    driver.switch_to.window(driver.window_handles[0]) # switch back"
   ]
  },
  {
   "cell_type": "code",
   "execution_count": 3,
   "id": "0137a7eb",
   "metadata": {},
   "outputs": [],
   "source": [
    "URL = \"https://www.casablanca-bourse.com/bourseweb/index.aspx\" # url\n",
    "page = requests.get(URL, headers={'User-Agent': 'Mozilla/5.0'})\n",
    "content = page.content\n",
    "\n",
    "soup = BeautifulSoup(content, \"html.parser\")"
   ]
  },
  {
   "cell_type": "code",
   "execution_count": 4,
   "id": "e55b686c",
   "metadata": {},
   "outputs": [
    {
     "name": "stdout",
     "output_type": "stream",
     "text": [
      "989,30\n",
      "+0,26%\n",
      "-8,88%\n",
      "augmente\n"
     ]
    }
   ],
   "source": [
    "#Indices\n",
    "\n",
    "#MSI20\n",
    "\n",
    "MSIval = soup.find(\"span\",{\"id\":\"FrontTabContainer1_ctl00_MasiMadex1_LBValMSI\"}).text\n",
    "MSIvar = soup.find(\"span\",{\"id\":\"FrontTabContainer1_ctl00_MasiMadex1_LBVarMSI\"}).text\n",
    "MSIytd = soup.find(\"span\",{\"id\":\"FrontTabContainer1_ctl00_MasiMadex1_LBMSIEvolution\"}).text\n",
    "\n",
    "MSIvar = MSIvar.replace(' ','')\n",
    "MSIytd = MSIytd.replace(' ','')\n",
    "\n",
    "if MSIvar[0] == '-':\n",
    "    c2 = \"diminue\"\n",
    "else:\n",
    "    c2 = \"augmente\"\n",
    "    MSIvar = '+'+MSIvar\n",
    "\n",
    "print(MSIval)\n",
    "print(MSIvar)\n",
    "print(MSIytd)\n",
    "print(c2)"
   ]
  },
  {
   "cell_type": "code",
   "execution_count": 5,
   "id": "bff81689",
   "metadata": {},
   "outputs": [
    {
     "name": "stdout",
     "output_type": "stream",
     "text": [
      "12 201,61\n",
      "+0,12%\n",
      "-8,66%\n",
      "hausse\n"
     ]
    }
   ],
   "source": [
    "#MASI\n",
    "\n",
    "MASIval = soup.find(\"span\",{\"id\":\"FrontTabContainer1_ctl00_MasiMadex1_LBValMasi\"}).text\n",
    "MASIvar = soup.find(\"span\",{\"id\":\"FrontTabContainer1_ctl00_MasiMadex1_LBVarMasi\"}).text\n",
    "MASIytd = soup.find(\"span\",{\"id\":\"FrontTabContainer1_ctl00_MasiMadex1_LBMasEvolution\"}).text\n",
    "\n",
    "MASIval = MASIval.replace('Â','')\n",
    "MASIvar = MASIvar.replace(' ','')\n",
    "MASIytd = MASIytd.replace(' ','')\n",
    "\n",
    "if MASIvar[0] == '-':\n",
    "    c1 = \"baisse\"\n",
    "else:\n",
    "    c1 = \"hausse\"\n",
    "    MASIvar = '+'+MASIvar\n",
    "\n",
    "print(MASIval)\n",
    "print(MASIvar)\n",
    "print(MASIytd)\n",
    "print(c1)"
   ]
  },
  {
   "cell_type": "code",
   "execution_count": 6,
   "id": "48f6b94e",
   "metadata": {},
   "outputs": [
    {
     "data": {
      "text/plain": [
       "'quatrième'"
      ]
     },
     "execution_count": 6,
     "metadata": {},
     "output_type": "execute_result"
    }
   ],
   "source": [
    "seance = soup.find(\"span\",{\"id\":\"EtatSeance1_LBHeure\"}).text\n",
    "seance = seance.split()\n",
    "\n",
    "dic = {\"lundi\":\"première\", \"mardi\":\"deuxième\", \"mercredi\":\"troisième\", \"jeudi\":\"quatrième\", \"vendredi\":\"dernière\"}\n",
    "d = dic[seance[0]]\n",
    "d"
   ]
  },
  {
   "cell_type": "code",
   "execution_count": 7,
   "id": "83e9ebca",
   "metadata": {},
   "outputs": [
    {
     "name": "stdout",
     "output_type": "stream",
     "text": [
      "contre-performances\n"
     ]
    }
   ],
   "source": [
    "#performance YTD\n",
    "\n",
    "if MASIytd[0] and MSIytd[0] == '-':\n",
    "    e = \"contre-performances\"\n",
    "else:\n",
    "    e = \"performances\"\n",
    "    \n",
    "print(e)"
   ]
  },
  {
   "cell_type": "code",
   "execution_count": 8,
   "id": "a41f668d",
   "metadata": {},
   "outputs": [
    {
     "name": "stderr",
     "output_type": "stream",
     "text": [
      "C:\\Users\\AQ\\AppData\\Local\\Temp/ipykernel_13212/272176402.py:1: DeprecationWarning: executable_path has been deprecated, please pass in a Service object\n",
      "  driver = webdriver.Chrome(\"chromedriver.exe\")\n"
     ]
    }
   ],
   "source": [
    "driver = webdriver.Chrome(\"chromedriver.exe\")\n",
    "time.sleep(2)"
   ]
  },
  {
   "cell_type": "code",
   "execution_count": 9,
   "id": "2187c841",
   "metadata": {},
   "outputs": [],
   "source": [
    "delete_cache()"
   ]
  },
  {
   "cell_type": "code",
   "execution_count": 10,
   "id": "dc5b9c04",
   "metadata": {},
   "outputs": [],
   "source": [
    "driver.delete_all_cookies()\n",
    "driver.get(URL)\n",
    "time.sleep(3)"
   ]
  },
  {
   "cell_type": "code",
   "execution_count": 11,
   "id": "59ed1f87",
   "metadata": {},
   "outputs": [],
   "source": [
    "#Plus fortes variations\n",
    "\n",
    "driver.delete_all_cookies()\n",
    "\n",
    "try:\n",
    "    element2 = driver.find_element(By.XPATH, \"//input[@id='FrontTabContainer1_ctl00_ImageButton2']\")\n",
    "    element2.click()\n",
    "    try:\n",
    "        driver.delete_all_cookies()\n",
    "        try:\n",
    "            driver.delete_all_cookies()\n",
    "        except:\n",
    "            driver.delete_all_cookies()\n",
    "    except:\n",
    "        driver.delete_all_cookies()\n",
    "except:\n",
    "    element2 = driver.find_element(By.XPATH, \"//input[@id='FrontTabContainer1_ctl00_ImageButton2']\")\n",
    "    element2.click()\n",
    "    \n",
    "try:\n",
    "    element2 = driver.find_element(By.XPATH, \"//input[@id='FrontTabContainer1_ctl00_ImageButton2']\")\n",
    "    element2.click()\n",
    "    try:\n",
    "        driver.delete_all_cookies()\n",
    "        try:\n",
    "            driver.delete_all_cookies()\n",
    "        except:\n",
    "            driver.delete_all_cookies()\n",
    "    except:\n",
    "        driver.delete_all_cookies()\n",
    "except:\n",
    "    element2 = driver.find_element(By.XPATH, \"//input[@id='FrontTabContainer1_ctl00_ImageButton2']\")\n",
    "    element2.click()\n",
    "    \n",
    "time.sleep(2)"
   ]
  },
  {
   "cell_type": "code",
   "execution_count": 12,
   "id": "4a7b74f3",
   "metadata": {},
   "outputs": [
    {
     "name": "stdout",
     "output_type": "stream",
     "text": [
      "MICRODATA 552,10 +5,97% ,\n"
     ]
    }
   ],
   "source": [
    "#Fortes hausses 1\n",
    "\n",
    "driver.delete_all_cookies()\n",
    "\n",
    "E1Name = driver.find_element(By.XPATH,\"//span[@id='FrontTabContainer1_ctl00_Variation1_FrtesHV1_RptrVarHaut_ctl01_Label1']\").text\n",
    "E1Price = driver.find_element(By.XPATH,\"//span[@id='FrontTabContainer1_ctl00_Variation1_FrtesHV1_RptrVarHaut_ctl01_Label2']\").text\n",
    "E1Var = driver.find_element(By.XPATH,\"//span[@id='FrontTabContainer1_ctl00_Variation1_FrtesHV1_RptrVarHaut_ctl01_Label4']\").text\n",
    "\n",
    "try:\n",
    "    element7 = driver.find_element(By.XPATH, \"//span[@id='FrontTabContainer1_ctl00_Variation1_FrtesHV1_RptrVarHaut_ctl01_Label1']\")\n",
    "    element7.click()\n",
    "    try:\n",
    "        driver.delete_all_cookies()\n",
    "    except:\n",
    "        driver.delete_all_cookies()\n",
    "except:\n",
    "    element7 = driver.find_element(By.XPATH, \"//span[@id='FrontTabContainer1_ctl00_Variation1_FrtesHV1_RptrVarHaut_ctl01_Label1']\")\n",
    "    element7.click()\n",
    "    \n",
    "nba = driver.find_element(By.XPATH,\"//span[@id='SocieteCotee1_ctl16_LBCumulTitreEch']\").text\n",
    "nbat = driver.find_element(By.XPATH,\"//span[@id='SocieteCotee1_ctl16_lblNombreAction']\").text\n",
    "\n",
    "nba2 = re.sub(r'(\\d)\\s+(\\d)', r'\\1\\2', nba)\n",
    "nba2 = int(nba2)\n",
    "nbat2 = re.sub(r'(\\d)\\s+(\\d)', r'\\1\\2', nbat)\n",
    "nbat2 = int(nbat2)\n",
    "\n",
    "prop1 = round((nba2/nbat2)*100,1) \n",
    "prop1 = str(prop1)\n",
    "prop1 = prop1+'%'\n",
    "\n",
    "if prop1[2] != \"0\":\n",
    "    E1prop1 = \"(soit\",prop1,\"du capital),\"\n",
    "else:\n",
    "    E1prop1 = ','\n",
    "    \n",
    "prop2 = ''\n",
    "for item in E1prop1:\n",
    "    prop2 = prop2 +' '+item\n",
    "\n",
    "E1Var = E1Var.replace(' ','')\n",
    "E1Var = '+'+E1Var\n",
    "prop2 = prop2.replace('.',',')\n",
    "prop2 = prop2[1:]\n",
    "\n",
    "print(E1Name, E1Price, E1Var, prop2)\n",
    "\n",
    "time.sleep(2)"
   ]
  },
  {
   "cell_type": "code",
   "execution_count": 13,
   "id": "d62ccad5",
   "metadata": {},
   "outputs": [],
   "source": [
    "driver.delete_all_cookies()\n",
    "driver.get(URL)"
   ]
  },
  {
   "cell_type": "code",
   "execution_count": 14,
   "id": "522403dd",
   "metadata": {},
   "outputs": [],
   "source": [
    "driver.delete_all_cookies()\n",
    "\n",
    "try:\n",
    "    element2 = driver.find_element(By.XPATH, \"//input[@id='FrontTabContainer1_ctl00_ImageButton2']\")\n",
    "    element2.click()\n",
    "    try:\n",
    "        driver.delete_all_cookies()\n",
    "        try:\n",
    "            driver.delete_all_cookies()\n",
    "        except:\n",
    "            driver.delete_all_cookies()\n",
    "    except:\n",
    "        driver.delete_all_cookies()\n",
    "except:\n",
    "    element2 = driver.find_element(By.XPATH, \"//input[@id='FrontTabContainer1_ctl00_ImageButton2']\")\n",
    "    element2.click()\n",
    "    \n",
    "try:\n",
    "    element2 = driver.find_element(By.XPATH, \"//input[@id='FrontTabContainer1_ctl00_ImageButton2']\")\n",
    "    element2.click()\n",
    "    try:\n",
    "        driver.delete_all_cookies()\n",
    "        try:\n",
    "            driver.delete_all_cookies()\n",
    "        except:\n",
    "            driver.delete_all_cookies()\n",
    "    except:\n",
    "        driver.delete_all_cookies()\n",
    "except:\n",
    "    element2 = driver.find_element(By.XPATH, \"//input[@id='FrontTabContainer1_ctl00_ImageButton2']\")\n",
    "    element2.click()\n",
    "\n",
    "time.sleep(2)"
   ]
  },
  {
   "cell_type": "code",
   "execution_count": 15,
   "id": "c6d0bf01",
   "metadata": {},
   "outputs": [
    {
     "name": "stdout",
     "output_type": "stream",
     "text": [
      "IB MAROC.COM 27,14 +3,98% ;\n"
     ]
    }
   ],
   "source": [
    "#Fortes hausses 2\n",
    "\n",
    "E2Name = driver.find_element(By.XPATH,\"//span[@id='FrontTabContainer1_ctl00_Variation1_FrtesHV1_RptrVarHaut_ctl02_Label1']\").text\n",
    "E2Price = driver.find_element(By.XPATH,\"//span[@id='FrontTabContainer1_ctl00_Variation1_FrtesHV1_RptrVarHaut_ctl02_Label2']\").text\n",
    "E2Var = driver.find_element(By.XPATH,\"//span[@id='FrontTabContainer1_ctl00_Variation1_FrtesHV1_RptrVarHaut_ctl02_Label4']\").text\n",
    "\n",
    "try:\n",
    "    element7 = driver.find_element(By.XPATH, \"//span[@id='FrontTabContainer1_ctl00_Variation1_FrtesHV1_RptrVarHaut_ctl02_Label1']\")\n",
    "    element7.click()\n",
    "    try:\n",
    "        driver.delete_all_cookies()\n",
    "    except:\n",
    "        driver.delete_all_cookies()\n",
    "except:\n",
    "    element7 = driver.find_element(By.XPATH, \"//span[@id='FrontTabContainer1_ctl00_Variation1_FrtesHV1_RptrVarHaut_ctl02_Label1']\")\n",
    "    element7.click()\n",
    "    \n",
    "nba3 = driver.find_element(By.XPATH,\"//span[@id='SocieteCotee1_ctl16_LBCumulTitreEch']\").text\n",
    "nbat3 = driver.find_element(By.XPATH,\"//span[@id='SocieteCotee1_ctl16_lblNombreAction']\").text\n",
    "\n",
    "nba4 = re.sub(r'(\\d)\\s+(\\d)', r'\\1\\2', nba3)\n",
    "nba4 = int(nba4)\n",
    "nbat4 = re.sub(r'(\\d)\\s+(\\d)', r'\\1\\2', nbat3)\n",
    "nbat4 = int(nbat4)\n",
    "\n",
    "prop3 = round((nba4/nbat4)*100,1) \n",
    "prop3 = str(prop3)\n",
    "prop3 = prop3+'%'\n",
    "\n",
    "if prop3[2] != \"0\":\n",
    "    E2prop1 = \"(soit\",prop3,\"du capital);\"\n",
    "else:\n",
    "    E2prop1 = ';'\n",
    "    \n",
    "prop4 = ''\n",
    "for item in E2prop1:\n",
    "    prop4 = prop4 +' '+item\n",
    "    \n",
    "E2Var = E2Var.replace(' ','')\n",
    "E2Var = '+'+E2Var\n",
    "prop4 = prop4.replace('.',',')\n",
    "prop4 = prop4[1:]\n",
    " \n",
    "print(E2Name, E2Price, E2Var, prop4)\n",
    "time.sleep(2)"
   ]
  },
  {
   "cell_type": "code",
   "execution_count": 16,
   "id": "75350958",
   "metadata": {},
   "outputs": [],
   "source": [
    "driver.delete_all_cookies()\n",
    "driver.get(URL)"
   ]
  },
  {
   "cell_type": "code",
   "execution_count": 17,
   "id": "390d33d6",
   "metadata": {},
   "outputs": [],
   "source": [
    "driver.delete_all_cookies()\n",
    "\n",
    "try:\n",
    "    element2 = driver.find_element(By.XPATH, \"//input[@id='FrontTabContainer1_ctl00_ImageButton2']\")\n",
    "    element2.click()\n",
    "    try:\n",
    "        driver.delete_all_cookies()\n",
    "        try:\n",
    "            driver.delete_all_cookies()\n",
    "        except:\n",
    "            driver.delete_all_cookies()\n",
    "    except:\n",
    "        driver.delete_all_cookies()\n",
    "except:\n",
    "    element2 = driver.find_element(By.XPATH, \"//input[@id='FrontTabContainer1_ctl00_ImageButton2']\")\n",
    "    element2.click()\n",
    "    \n",
    "try:\n",
    "    element2 = driver.find_element(By.XPATH, \"//input[@id='FrontTabContainer1_ctl00_ImageButton2']\")\n",
    "    element2.click()\n",
    "    try:\n",
    "        driver.delete_all_cookies()\n",
    "        try:\n",
    "            driver.delete_all_cookies()\n",
    "        except:\n",
    "            driver.delete_all_cookies()\n",
    "    except:\n",
    "        driver.delete_all_cookies()\n",
    "except:\n",
    "    element2 = driver.find_element(By.XPATH, \"//input[@id='FrontTabContainer1_ctl00_ImageButton2']\")\n",
    "    element2.click()\n",
    "    \n",
    "time.sleep(2)"
   ]
  },
  {
   "cell_type": "code",
   "execution_count": 18,
   "id": "7c383f5b",
   "metadata": {},
   "outputs": [
    {
     "name": "stdout",
     "output_type": "stream",
     "text": [
      "CTM 657,00 -5,93% ,\n"
     ]
    }
   ],
   "source": [
    "#Fortes baisses 1\n",
    "\n",
    "E3Name = driver.find_element(By.XPATH,\"//span[@id='FrontTabContainer1_ctl00_Variation1_FrtesBV1_RptrVarHaut_ctl01_Label1']\").text\n",
    "E3Price = driver.find_element(By.XPATH,\"//span[@id='FrontTabContainer1_ctl00_Variation1_FrtesBV1_RptrVarHaut_ctl01_Label2']\").text\n",
    "E3Var = driver.find_element(By.XPATH,\"//span[@id='FrontTabContainer1_ctl00_Variation1_FrtesBV1_RptrVarHaut_ctl01_Label4']\").text\n",
    "\n",
    "try:\n",
    "    element7 = driver.find_element(By.XPATH, \"//span[@id='FrontTabContainer1_ctl00_Variation1_FrtesBV1_RptrVarHaut_ctl01_Label1']\")\n",
    "    element7.click()\n",
    "    try:\n",
    "        driver.delete_all_cookies()\n",
    "    except:\n",
    "        driver.delete_all_cookies()\n",
    "except:\n",
    "    element7 = driver.find_element(By.XPATH, \"//span[@id='FrontTabContainer1_ctl00_Variation1_FrtesBV1_RptrVarHaut_ctl01_Label1']\")\n",
    "    element7.click()\n",
    "    \n",
    "nba5 = driver.find_element(By.XPATH,\"//span[@id='SocieteCotee1_ctl16_LBCumulTitreEch']\").text\n",
    "nbat5 = driver.find_element(By.XPATH,\"//span[@id='SocieteCotee1_ctl16_lblNombreAction']\").text\n",
    "\n",
    "nba6 = re.sub(r'(\\d)\\s+(\\d)', r'\\1\\2', nba5)\n",
    "nba6 = int(nba6)\n",
    "nbat6 = re.sub(r'(\\d)\\s+(\\d)', r'\\1\\2', nbat5)\n",
    "nbat6 = int(nbat6)\n",
    "\n",
    "prop5 = round((nba6/nbat6)*100,1) \n",
    "prop5 = str(prop5)\n",
    "prop5 = prop5+'%'\n",
    "\n",
    "if prop5[2] != \"0\":\n",
    "    E3prop1 = \"(soit\",prop5,\"du capital),\"\n",
    "else:\n",
    "    E3prop1 = ','\n",
    "    \n",
    "prop6 = ''\n",
    "for item in E3prop1:\n",
    "    prop6 = prop6 +' '+item\n",
    "\n",
    "E3Var = E3Var.replace(' ','')\n",
    "prop6 = prop6.replace('.',',')\n",
    "prop6 = prop6[1:]\n",
    "\n",
    "print(E3Name, E3Price, E3Var, prop6)\n",
    "time.sleep(2)"
   ]
  },
  {
   "cell_type": "code",
   "execution_count": 19,
   "id": "29727f4c",
   "metadata": {},
   "outputs": [],
   "source": [
    "driver.delete_all_cookies()\n",
    "driver.get(URL)"
   ]
  },
  {
   "cell_type": "code",
   "execution_count": 20,
   "id": "ca46ec2c",
   "metadata": {},
   "outputs": [],
   "source": [
    "driver.delete_all_cookies()\n",
    "\n",
    "try:\n",
    "    element2 = driver.find_element(By.XPATH, \"//input[@id='FrontTabContainer1_ctl00_ImageButton2']\")\n",
    "    element2.click()\n",
    "    try:\n",
    "        driver.delete_all_cookies()\n",
    "        try:\n",
    "            driver.delete_all_cookies()\n",
    "        except:\n",
    "            driver.delete_all_cookies()\n",
    "    except:\n",
    "        driver.delete_all_cookies()\n",
    "except:\n",
    "    element2 = driver.find_element(By.XPATH, \"//input[@id='FrontTabContainer1_ctl00_ImageButton2']\")\n",
    "    element2.click()\n",
    "    \n",
    "try:\n",
    "    element2 = driver.find_element(By.XPATH, \"//input[@id='FrontTabContainer1_ctl00_ImageButton2']\")\n",
    "    element2.click()\n",
    "    try:\n",
    "        driver.delete_all_cookies()\n",
    "        try:\n",
    "            driver.delete_all_cookies()\n",
    "        except:\n",
    "            driver.delete_all_cookies()\n",
    "    except:\n",
    "        driver.delete_all_cookies()\n",
    "except:\n",
    "    element2 = driver.find_element(By.XPATH, \"//input[@id='FrontTabContainer1_ctl00_ImageButton2']\")\n",
    "    element2.click()\n",
    "    \n",
    "time.sleep(2)"
   ]
  },
  {
   "cell_type": "code",
   "execution_count": 21,
   "id": "e9b90aa6",
   "metadata": {},
   "outputs": [
    {
     "name": "stdout",
     "output_type": "stream",
     "text": [
      "ENNAKL 31,20 -5,11% ;\n"
     ]
    }
   ],
   "source": [
    "#Fortes baisses 2\n",
    "\n",
    "E4Name = driver.find_element(By.XPATH,\"//span[@id='FrontTabContainer1_ctl00_Variation1_FrtesBV1_RptrVarHaut_ctl02_Label1']\").text\n",
    "E4Price = driver.find_element(By.XPATH,\"//span[@id='FrontTabContainer1_ctl00_Variation1_FrtesBV1_RptrVarHaut_ctl02_Label2']\").text\n",
    "E4Var = driver.find_element(By.XPATH,\"//span[@id='FrontTabContainer1_ctl00_Variation1_FrtesBV1_RptrVarHaut_ctl02_Label4']\").text\n",
    "\n",
    "try:\n",
    "    element7 = driver.find_element(By.XPATH, \"//span[@id='FrontTabContainer1_ctl00_Variation1_FrtesBV1_RptrVarHaut_ctl02_Label1']\")\n",
    "    element7.click()\n",
    "    try:\n",
    "        driver.delete_all_cookies()\n",
    "    except:\n",
    "        driver.delete_all_cookies()\n",
    "except:\n",
    "    element7 = driver.find_element(By.XPATH, \"//span[@id='FrontTabContainer1_ctl00_Variation1_FrtesBV1_RptrVarHaut_ctl02_Label1']\")\n",
    "    element7.click()\n",
    "    \n",
    "nba7 = driver.find_element(By.XPATH,\"//span[@id='SocieteCotee1_ctl16_LBCumulTitreEch']\").text\n",
    "nbat7 = driver.find_element(By.XPATH,\"//span[@id='SocieteCotee1_ctl16_lblNombreAction']\").text\n",
    "\n",
    "nba8 = re.sub(r'(\\d)\\s+(\\d)', r'\\1\\2', nba7)\n",
    "nba8 = int(nba8)\n",
    "nbat8 = re.sub(r'(\\d)\\s+(\\d)', r'\\1\\2', nbat7)\n",
    "nbat8 = int(nbat8)\n",
    "\n",
    "prop7 = round((nba8/nbat8)*100,1) \n",
    "prop7 = str(prop7)\n",
    "prop7 = prop7+'%'\n",
    "\n",
    "if prop7[2] != \"0\":\n",
    "    E4prop1 = \"(soit\",prop7,\"du capital);\"\n",
    "else:\n",
    "    E4prop1 = ';'\n",
    "    \n",
    "prop8 = ''\n",
    "for item in E4prop1:\n",
    "    prop8 = prop8 +' '+item\n",
    "\n",
    "E4Var = E4Var.replace(' ','')\n",
    "prop8 = prop8.replace('.',',')\n",
    "prop8 = prop8[1:]\n",
    "\n",
    "print(E4Name, E4Price, E4Var, prop8)\n",
    "time.sleep(2)"
   ]
  },
  {
   "cell_type": "code",
   "execution_count": 22,
   "id": "28f731dd",
   "metadata": {},
   "outputs": [],
   "source": [
    "driver.delete_all_cookies()\n",
    "driver.get(URL)"
   ]
  },
  {
   "cell_type": "code",
   "execution_count": 23,
   "id": "4da47472",
   "metadata": {},
   "outputs": [],
   "source": [
    "#Volumes\n",
    "\n",
    "driver.delete_all_cookies()\n",
    "\n",
    "try:\n",
    "    element3 = driver.find_element(By.XPATH, \"//input[@id='FrontTabContainer1_ctl00_ImageButton3']\")\n",
    "    element3.click()\n",
    "    try:\n",
    "        driver.delete_all_cookies()\n",
    "    except:\n",
    "        driver.delete_all_cookies()\n",
    "except:\n",
    "    element3 = driver.find_element(By.XPATH, \"//input[@id='FrontTabContainer1_ctl00_ImageButton3']\")\n",
    "    element3.click()\n",
    "    \n",
    "try:\n",
    "    element3 = driver.find_element(By.XPATH, \"//input[@id='FrontTabContainer1_ctl00_ImageButton3']\")\n",
    "    element3.click()\n",
    "    try:\n",
    "        driver.delete_all_cookies()\n",
    "    except:\n",
    "        driver.delete_all_cookies()\n",
    "except:\n",
    "    element3 = driver.find_element(By.XPATH, \"//input[@id='FrontTabContainer1_ctl00_ImageButton3']\")\n",
    "    element3.click()\n",
    "    \n",
    "time.sleep(2)"
   ]
  },
  {
   "cell_type": "code",
   "execution_count": 24,
   "id": "3f977624",
   "metadata": {},
   "outputs": [],
   "source": [
    "driver.delete_all_cookies()\n",
    "try:\n",
    "    element4 = driver.find_element(By.XPATH, \"//span[@id='FrontTabContainer1_ctl00_Volume1_LBTOtal']\")\n",
    "    element4.click()\n",
    "    try:\n",
    "        driver.delete_all_cookies()\n",
    "    except:\n",
    "        driver.delete_all_cookies()\n",
    "except:\n",
    "    element4 = driver.find_element(By.XPATH, \"//span[@id='FrontTabContainer1_ctl00_Volume1_LBTOtal']\")\n",
    "    element4.click()\n",
    "    \n",
    "time.sleep(2)"
   ]
  },
  {
   "cell_type": "code",
   "execution_count": 25,
   "id": "993248e4",
   "metadata": {},
   "outputs": [
    {
     "name": "stdout",
     "output_type": "stream",
     "text": [
      "26517983.52\n",
      "26,52\n"
     ]
    }
   ],
   "source": [
    "try:\n",
    "    VolMC = driver.find_element(By.XPATH,\"//span[@id='FrontTabContainer1_ctl00_Volume1_LBMC']\").text\n",
    "    VolMC = VolMC.replace(' ','')\n",
    "    VolMC = VolMC.replace(',', '.')\n",
    "    VolMC = float(VolMC)\n",
    "except:\n",
    "    VolMC = driver.find_element(By.XPATH,\"//span[@id='FrontTabContainer1_ctl00_Volume1_LBMC']\").text\n",
    "    VolMC = VolMC.replace(' ','')\n",
    "    VolMC = VolMC.replace(',', '.')\n",
    "    VolMC = float(VolMC)\n",
    "    \n",
    "print(VolMC)\n",
    "\n",
    "f = round(VolMC/1000000, 2)\n",
    "f = str(f)\n",
    "f = f.replace('.', ',')\n",
    "print(f)"
   ]
  },
  {
   "cell_type": "code",
   "execution_count": 26,
   "id": "befaff0e",
   "metadata": {},
   "outputs": [
    {
     "data": {
      "text/plain": [
       "'Anémique,'"
      ]
     },
     "execution_count": 26,
     "metadata": {},
     "output_type": "execute_result"
    }
   ],
   "source": [
    "ff = f.replace(',','.')\n",
    "ff = float(ff)\n",
    "if ff > 100:\n",
    "    fc = \"Dynamique,\"\n",
    "else:\n",
    "    fc = \"Anémique,\"\n",
    "\n",
    "fc"
   ]
  },
  {
   "cell_type": "code",
   "execution_count": 27,
   "id": "c282927a",
   "metadata": {},
   "outputs": [],
   "source": [
    "driver.delete_all_cookies()\n",
    "try:\n",
    "    element5 = driver.find_element(By.XPATH, \"//input[@id='FrontTabContainer1_ctl00_ImageButton3']\")\n",
    "    element5.click()\n",
    "    try:\n",
    "        driver.delete_all_cookies()\n",
    "    except:\n",
    "        driver.delete_all_cookies()\n",
    "except:\n",
    "    element5 = driver.find_element(By.XPATH, \"//input[@id='FrontTabContainer1_ctl00_ImageButton3']\")\n",
    "    element5.click()\n",
    "    \n",
    "time.sleep(2)"
   ]
  },
  {
   "cell_type": "code",
   "execution_count": 28,
   "id": "f1ecb296",
   "metadata": {},
   "outputs": [
    {
     "name": "stdout",
     "output_type": "stream",
     "text": [
      "+57,08%\n",
      "['BCP', 'HPS', 'MANAGEM', 'SOTHEMA']\n",
      "['20 527', '829', '1 310', '1 514']\n",
      "['', '0,1%', '', '']\n"
     ]
    }
   ],
   "source": [
    "#seuil\n",
    "\n",
    "seuil = VolMC/2\n",
    "x = 0\n",
    "l1 = []\n",
    "l2 = []\n",
    "l3 = []\n",
    "\n",
    "while x < seuil:\n",
    "    for i in range(1,11):\n",
    "        Vol = driver.find_element(By.XPATH,\"//span[@id='FrontTabContainer1_ctl00_Volume1_ValeurPlusActives1_RptrValActives_ctl0{}_Label8']\".format(i)).text\n",
    "        Vol = re.sub(r'(\\d)\\s+(\\d)', r'\\1\\2', Vol)\n",
    "        Vol = Vol.replace(',', '.')\n",
    "        Vol = float(Vol)\n",
    "        x += Vol\n",
    "        Entr = driver.find_element(By.XPATH,\"//span[@id='FrontTabContainer1_ctl00_Volume1_ValeurPlusActives1_RptrValActives_ctl0{}_Label6']\".format(i)).text\n",
    "        l1.append(Entr)\n",
    "        \n",
    "        driver.delete_all_cookies()\n",
    "        try:\n",
    "            element6 = driver.find_element(By.XPATH, \"//span[@id='FrontTabContainer1_ctl00_Volume1_ValeurPlusActives1_RptrValActives_ctl0{}_Label6']\".format(i))\n",
    "            element6.click()\n",
    "            try:\n",
    "                driver.delete_all_cookies()\n",
    "            except:\n",
    "                driver.delete_all_cookies()\n",
    "        except:\n",
    "            element6 = driver.find_element(By.XPATH, \"//span[@id='FrontTabContainer1_ctl00_Volume1_ValeurPlusActives1_RptrValActives_ctl0{}_Label6']\".format(i))\n",
    "            element6.click()\n",
    "        \n",
    "        nb = driver.find_element(By.XPATH,\"//span[@id='SocieteCotee1_ctl16_LBCumulTitreEch']\").text\n",
    "        l2.append(nb)\n",
    "        nb2 = re.sub(r'(\\d)\\s+(\\d)', r'\\1\\2', nb)\n",
    "        nb2 = int(nb2)\n",
    "        \n",
    "        nbt = driver.find_element(By.XPATH,\"//span[@id='SocieteCotee1_ctl16_lblNombreAction']\").text\n",
    "        nbt2 = re.sub(r'(\\d)\\s+(\\d)', r'\\1\\2', nbt)\n",
    "        nbt2 = int(nbt2)\n",
    "        \n",
    "        prop = round((nb2/nbt2)*100,1) \n",
    "        prop = str(prop)\n",
    "        if prop[2] != \"0\":\n",
    "            prop = str(prop)\n",
    "            prop = prop+'%'\n",
    "            prop = prop.replace('.', ',')\n",
    "            l3.append(prop)\n",
    "        else:\n",
    "            prop = \"\"\n",
    "            l3.append(prop)\n",
    "        \n",
    "        driver.delete_all_cookies()\n",
    "        driver.get(URL)\n",
    "        \n",
    "        time.sleep(2)\n",
    "        driver.delete_all_cookies()\n",
    "        try:\n",
    "            element5 = driver.find_element(By.XPATH, \"//input[@id='FrontTabContainer1_ctl00_ImageButton3']\")\n",
    "            element5.click()\n",
    "            try:\n",
    "                driver.delete_all_cookies()\n",
    "            except:\n",
    "                driver.delete_all_cookies()\n",
    "        except:\n",
    "            element5 = driver.find_element(By.XPATH, \"//input[@id='FrontTabContainer1_ctl00_ImageButton3']\")\n",
    "            element5.click()\n",
    "        time.sleep(2)\n",
    "        \n",
    "        if x > seuil:\n",
    "            taux = '+'+str(round((x/VolMC)*100, 2))+'%'\n",
    "            taux = taux.replace('.', ',')\n",
    "            print(taux)\n",
    "            break\n",
    "\n",
    "\n",
    "print(l1)\n",
    "print(l2)\n",
    "print(l3)\n",
    "time.sleep(2)"
   ]
  },
  {
   "cell_type": "code",
   "execution_count": 29,
   "id": "b10962c4",
   "metadata": {},
   "outputs": [
    {
     "name": "stdout",
     "output_type": "stream",
     "text": [
      "20 527 actions BCP, 829 actions HPS (soit 0,1% du capital), 1 310 actions MANAGEM, et 1 514 actions SOTHEMA;\n"
     ]
    }
   ],
   "source": [
    "l4 = []\n",
    "\n",
    "for i in range(0,len(l1)):\n",
    "    y = l2[i],\"actions\",l1[i]\n",
    "    if l3[i] != '':\n",
    "        y2 = \"(soit\",l3[i],\"du capital)\"\n",
    "        y = y+y2\n",
    "    else:\n",
    "        y = y\n",
    "    y3 = ''\n",
    "    for item in y:\n",
    "        y3 = y3 +' '+item\n",
    "    l4.append(y3)\n",
    "    \n",
    "y4 = l4[0]\n",
    "for item in l4[1:len(l4)-1]:\n",
    "    y4 = y4 + ','+ item\n",
    "if len(l1) != 1:\n",
    "    y4 = y4 + ', et' + l4[-1]+';'\n",
    "    \n",
    "y4 = y4[1:]\n",
    "print(y4)"
   ]
  },
  {
   "cell_type": "code",
   "execution_count": 30,
   "id": "3144a1a2",
   "metadata": {},
   "outputs": [],
   "source": [
    "try:\n",
    "    element4 = driver.find_element(By.XPATH, \"//span[@id='FrontTabContainer1_ctl00_Volume1_LBTOtal']\")\n",
    "    element4.click()\n",
    "    try:\n",
    "        driver.delete_all_cookies()\n",
    "    except:\n",
    "        driver.delete_all_cookies()\n",
    "except:\n",
    "    element4 = driver.find_element(By.XPATH, \"//span[@id='FrontTabContainer1_ctl00_Volume1_LBTOtal']\")\n",
    "    element4.click()\n",
    "time.sleep(2)"
   ]
  },
  {
   "cell_type": "code",
   "execution_count": 31,
   "id": "2f5bc35f",
   "metadata": {},
   "outputs": [
    {
     "name": "stdout",
     "output_type": "stream",
     "text": [
      "0.0\n"
     ]
    }
   ],
   "source": [
    "#Volume de bloc\n",
    "\n",
    "try:\n",
    "    Volb = driver.find_element(By.XPATH,\"//span[@id='FrontTabContainer1_ctl00_Volume1_LBMB']\").text\n",
    "    Volb = Volb.replace(' ','')\n",
    "    Volb = Volb.replace(',', '.')\n",
    "    Volb = float(Volb)\n",
    "except:\n",
    "    Volb = driver.find_element(By.XPATH,\"//span[@id='FrontTabContainer1_ctl00_Volume1_LBMB']\").text\n",
    "    Volb = Volb.replace(' ','')\n",
    "    Volb = Volb.replace(',', '.')\n",
    "    Volb = float(Volb)\n",
    "    \n",
    "print(Volb)\n",
    "\n",
    "#Détail volume de bloc\n"
   ]
  },
  {
   "cell_type": "code",
   "execution_count": 32,
   "id": "836e2238",
   "metadata": {},
   "outputs": [
    {
     "name": "stdout",
     "output_type": "stream",
     "text": [
      "0.0\n"
     ]
    }
   ],
   "source": [
    "#Volume de transfert\n",
    "\n",
    "try:\n",
    "    Volt = driver.find_element(By.XPATH,\"//span[@id='FrontTabContainer1_ctl00_Volume1_AVTransf']\").text\n",
    "    Volt = re.sub(r'(\\d)\\s+(\\d)', r'\\1\\2', Volt)\n",
    "    Volt = Volt.replace(',', '.')\n",
    "    Volt = float(Volt)\n",
    "except:\n",
    "    Volt = driver.find_element(By.XPATH,\"//span[@id='FrontTabContainer1_ctl00_Volume1_AVTransf']\").text\n",
    "    Volt = re.sub(r'(\\d)\\s+(\\d)', r'\\1\\2', Volt)\n",
    "    Volt = Volt.replace(',', '.')\n",
    "    Volt = float(Volt)\n",
    "    \n",
    "print(Volt)"
   ]
  },
  {
   "cell_type": "code",
   "execution_count": 33,
   "id": "20980529",
   "metadata": {},
   "outputs": [],
   "source": [
    "driver.close()"
   ]
  },
  {
   "cell_type": "code",
   "execution_count": 35,
   "id": "164f47f1",
   "metadata": {
    "scrolled": true
   },
   "outputs": [
    {
     "name": "stdout",
     "output_type": "stream",
     "text": [
      "LETTRE QUOTIDIENNE\n",
      "Date : 2022-08-25\n",
      "\n",
      "\n",
      "A l'issue de la quatrième séance hebdomadaire, la Bourse de Casablanca clôture avec un MASI en hausse de +0,12% à 12 201,61 points et un MSI20 qui augmente de +0,26% à 989,30 points, fixant ainsi leurs contre-performances annuelles à -8,66% et à -8,88% respectivement;\n",
      "\n",
      "\n",
      "Anémique, le volume transactionnel se fixe à M MAD 26,52 drainé à hauteur de +57,08% par les opérations portant sur 20 527 actions BCP, 829 actions HPS (soit 0,1% du capital), 1 310 actions MANAGEM, et 1 514 actions SOTHEMA;\n",
      "\n",
      "\n",
      "Au volet des plus fortes hausses, MICRODATA gagne +5,97% à MAD 552,10 pour 1 actions transigées , tandis que IB MAROC.COM se bonifie de +3,98% à MAD 27,14 pour 5 titres échangés ;\n",
      "\n",
      "\n",
      "En revanche, CTM perd -5,93% à MAD 657,00 pour 101 actions négociées , suivie de ENNAKL qui se déprécie de -5,11% à MAD 31,20 pour 209 titres échangés ;\n"
     ]
    }
   ],
   "source": [
    "#LETTRE QUOTIDIENNE\n",
    "\n",
    "print(\"LETTRE QUOTIDIENNE\")\n",
    "date = date.today()\n",
    "print(\"Date :\", date)\n",
    "\n",
    "print(\"\\n\")\n",
    "print(\"A l'issue de la\", d,\"séance hebdomadaire, la Bourse de Casablanca clôture avec un MASI en\", c1,\"de\", MASIvar,\n",
    "      \"à\", MASIval,\"points et un MSI20 qui\", c2,\"de\", MSIvar,\"à\", MSIval,\"points, fixant ainsi leurs\", e,\"annuelles à\",\n",
    "      MASIytd,\"et à\", MSIytd,\"respectivement;\")\n",
    "\n",
    "print(\"\\n\")\n",
    "print(fc,\"le volume transactionnel se fixe à M MAD\", f,\"drainé à hauteur de\", taux,\n",
    "      \"par les opérations portant sur\", y4)\n",
    "\n",
    "# if Volb > 0:\n",
    "#     print(\"\\n\")\n",
    "#     print(\"Pour sa part, le marché de Blocs abrite une transaction de M MAD X portant sur X titres X au cours unitaire de MAD X;\")\n",
    "\n",
    "print(\"\\n\")\n",
    "print(\"Au volet des plus fortes hausses,\",E1Name,\"gagne\",E1Var,\"à MAD\",E1Price,\"pour\",nba,\"actions transigées\",prop2,\n",
    "      \"tandis que\",E2Name,\"se bonifie de\",E2Var,\"à MAD\",E2Price,\"pour\", nba3,\"titres échangés\",prop4)\n",
    "\n",
    "print(\"\\n\")\n",
    "print(\"En revanche,\",E3Name,\"perd\",E3Var,\"à MAD\",E3Price,\"pour\",nba5,\"actions négociées\",prop6,\n",
    "      \"suivie de\",E4Name,\"qui se déprécie de\",E4Var,\"à MAD\",E4Price,\"pour\",nba7,\"titres échangés\",prop8)\n",
    "\n",
    "if Volt > 1000000:\n",
    "    Volt = str(Volt)\n",
    "    Volt = Volt.replace('.',',')\n",
    "    Volt = Volt+'.'\n",
    "    print(\"\\n\")\n",
    "    print(\"\\nOn constate aussi un volume de transfert à hauteur de MAD\", Volt)"
   ]
  }
 ],
 "metadata": {
  "kernelspec": {
   "display_name": "Python 3 (ipykernel)",
   "language": "python",
   "name": "python3"
  },
  "language_info": {
   "codemirror_mode": {
    "name": "ipython",
    "version": 3
   },
   "file_extension": ".py",
   "mimetype": "text/x-python",
   "name": "python",
   "nbconvert_exporter": "python",
   "pygments_lexer": "ipython3",
   "version": "3.9.7"
  }
 },
 "nbformat": 4,
 "nbformat_minor": 5
}

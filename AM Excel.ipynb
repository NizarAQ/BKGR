{
 "cells": [
  {
   "cell_type": "code",
   "execution_count": 1,
   "id": "20514c97",
   "metadata": {},
   "outputs": [],
   "source": [
    "# https://www.casablanca-bourse.com/bourseweb/Negociation-Historique.aspx?Cat=24&IdLink=302 Maroc\n",
    "\n",
    "# http://www.bvmt.com.tn/fr/physionomie Tunisie\n",
    "\n",
    "# https://www.brvm.org/fr/bulletins-officiels-de-la-cote BRVM\n",
    "\n",
    "# https://www.egx.com.eg/en/MarketSummry.aspx Egypt\n",
    "\n",
    "# https://www.dse.co.tz/ Tanzanie\n",
    "\n",
    "# https://www.stockexchangeofmauritius.com/ Maurice\n",
    "\n",
    "# https://www.nse.co.ke/ Kenya\n",
    "\n",
    "# https://ngxgroup.com/#tab1 Nigeria\n",
    "\n",
    "# https://gse.com.gh/#1536473284009-27e069cc-0ff3 Ghana"
   ]
  },
  {
   "cell_type": "code",
   "execution_count": 2,
   "id": "0fb9af9a",
   "metadata": {},
   "outputs": [],
   "source": [
    "import requests\n",
    "from bs4 import BeautifulSoup\n",
    "\n",
    "from selenium import webdriver\n",
    "from selenium.webdriver.common.keys import Keys\n",
    "from selenium.webdriver.common.by import By\n",
    "from selenium.webdriver.common.action_chains import ActionChains\n",
    "from selenium.webdriver.common.keys import Keys\n",
    "\n",
    "import time\n",
    "from datetime import datetime\n",
    "from datetime import date\n",
    "\n",
    "from tabulate import tabulate\n",
    "\n",
    "import tqdm\n",
    "\n",
    "import pandas as pd\n",
    "\n",
    "import re"
   ]
  },
  {
   "cell_type": "code",
   "execution_count": 3,
   "id": "37661ca0",
   "metadata": {},
   "outputs": [],
   "source": [
    "#Delete cache\n",
    "\n",
    "def delete_cache():\n",
    "    driver.execute_script(\"window.open('');\")\n",
    "    time.sleep(2)\n",
    "    driver.switch_to.window(driver.window_handles[-1])\n",
    "    time.sleep(2)\n",
    "    driver.get('chrome://settings/cleardriverData')\n",
    "    time.sleep(5)\n",
    "    actions = ActionChains(driver) \n",
    "    actions.send_keys(Keys.TAB * 3 + Keys.DOWN * 3) # send right combination\n",
    "    actions.perform()\n",
    "    time.sleep(5)\n",
    "    actions = ActionChains(driver) \n",
    "    actions.send_keys(Keys.TAB * 4 + Keys.ENTER) # confirm\n",
    "    actions.perform()\n",
    "    time.sleep(5) # wait some time to finish\n",
    "    driver.close() # close this tab\n",
    "    driver.switch_to.window(driver.window_handles[0]) # switch back"
   ]
  },
  {
   "cell_type": "code",
   "execution_count": 4,
   "id": "676f8d26",
   "metadata": {},
   "outputs": [
    {
     "name": "stderr",
     "output_type": "stream",
     "text": [
      "C:\\Users\\AQ\\AppData\\Local\\Temp/ipykernel_20508/272176402.py:1: DeprecationWarning: executable_path has been deprecated, please pass in a Service object\n",
      "  driver = webdriver.Chrome(\"chromedriver.exe\")\n"
     ]
    }
   ],
   "source": [
    "driver = webdriver.Chrome(\"chromedriver.exe\")\n",
    "time.sleep(2)"
   ]
  },
  {
   "cell_type": "code",
   "execution_count": 5,
   "id": "6ac613f0",
   "metadata": {},
   "outputs": [],
   "source": [
    "delete_cache()"
   ]
  },
  {
   "cell_type": "code",
   "execution_count": 6,
   "id": "e3f30c1a",
   "metadata": {},
   "outputs": [],
   "source": [
    "#MAROC"
   ]
  },
  {
   "cell_type": "code",
   "execution_count": 7,
   "id": "6f4845fc",
   "metadata": {},
   "outputs": [],
   "source": [
    "URL1 = 'https://www.casablanca-bourse.com/bourseweb/Negociation-Historique.aspx?Cat=24&IdLink=302'\n",
    "driver.delete_all_cookies()\n",
    "driver.get(URL1)\n",
    "time.sleep(3)"
   ]
  },
  {
   "cell_type": "code",
   "execution_count": 8,
   "id": "31b686d4",
   "metadata": {},
   "outputs": [],
   "source": [
    "#Volume\n",
    "\n",
    "driver.delete_all_cookies()\n",
    "\n",
    "try:\n",
    "    element1 = driver.find_element(By.XPATH, \"//a[@id='HistoriqueNegociation1_LKBObligation']\")\n",
    "    element1.click()\n",
    "    try:\n",
    "        driver.delete_all_cookies()\n",
    "        try:\n",
    "            driver.delete_all_cookies()\n",
    "        except:\n",
    "            driver.delete_all_cookies()\n",
    "    except:\n",
    "            driver.delete_all_cookies()\n",
    "except:\n",
    "    element1 = driver.find_element(By.XPATH, \"//a[@id='HistoriqueNegociation1_LKBObligation']\")\n",
    "    element1.click()\n",
    "    \n",
    "try:\n",
    "    element1 = driver.find_element(By.XPATH, \"//a[@id='HistoriqueNegociation1_LKBObligation']\")\n",
    "    element1.click()\n",
    "    try:\n",
    "        driver.delete_all_cookies()\n",
    "        try:\n",
    "            driver.delete_all_cookies()\n",
    "        except:\n",
    "            driver.delete_all_cookies()\n",
    "    except:\n",
    "            driver.delete_all_cookies()\n",
    "except:\n",
    "    element1 = driver.find_element(By.XPATH, \"//a[@id='HistoriqueNegociation1_LKBObligation']\")\n",
    "    element1.click()\n",
    "\n",
    "time.sleep(2)"
   ]
  },
  {
   "cell_type": "code",
   "execution_count": 9,
   "id": "7b612627",
   "metadata": {},
   "outputs": [
    {
     "name": "stdout",
     "output_type": "stream",
     "text": [
      "Le Volume du jour : 26 517 983,52\n"
     ]
    }
   ],
   "source": [
    "vol_maroc = driver.find_element(By.XPATH,\"//span[@id='HistoriqueNegociation1_HistVolume1_RptListHist_ctl01_Label7']\").text\n",
    "print(\"Le Volume du jour :\",vol_maroc)"
   ]
  },
  {
   "cell_type": "code",
   "execution_count": 10,
   "id": "ba8e0294",
   "metadata": {},
   "outputs": [],
   "source": [
    "driver.delete_all_cookies()\n",
    "driver.get(URL1)\n",
    "time.sleep(3)"
   ]
  },
  {
   "cell_type": "code",
   "execution_count": 11,
   "id": "e0054b50",
   "metadata": {},
   "outputs": [],
   "source": [
    "#Capitalisation\n",
    "\n",
    "driver.delete_all_cookies()\n",
    "\n",
    "try:\n",
    "    element2 = driver.find_element(By.XPATH, \"//a[@id='HistoriqueNegociation1_LKBDroit']\")\n",
    "    element2.click()\n",
    "    try:\n",
    "        driver.delete_all_cookies()\n",
    "        try:\n",
    "            driver.delete_all_cookies()\n",
    "        except:\n",
    "            driver.delete_all_cookies()\n",
    "    except:\n",
    "        driver.delete_all_cookies()\n",
    "except:\n",
    "    element2 = driver.find_element(By.XPATH, \"//a[@id='HistoriqueNegociation1_LKBDroit']\")\n",
    "    element2.click()\n",
    "    \n",
    "try:\n",
    "    element2 = driver.find_element(By.XPATH, \"//a[@id='HistoriqueNegociation1_LKBDroit']\")\n",
    "    element2.click()\n",
    "    try:\n",
    "        driver.delete_all_cookies()\n",
    "        try:\n",
    "            driver.delete_all_cookies()\n",
    "        except:\n",
    "            driver.delete_all_cookies()\n",
    "    except:\n",
    "        driver.delete_all_cookies()\n",
    "except:\n",
    "    element2 = driver.find_element(By.XPATH, \"//a[@id='HistoriqueNegociation1_LKBDroit']\")\n",
    "    element2.click()\n",
    "\n",
    "time.sleep(2)"
   ]
  },
  {
   "cell_type": "code",
   "execution_count": 12,
   "id": "dd608cc1",
   "metadata": {},
   "outputs": [
    {
     "name": "stdout",
     "output_type": "stream",
     "text": [
      "La capitalisation boursière : 632 640 283 004,65\n"
     ]
    }
   ],
   "source": [
    "cap_maroc = driver.find_element(By.XPATH,\"//span[@id='HistoriqueNegociation1_HistCapitalisation1_RptListHist_ctl01_LBCapitalisation']\").text\n",
    "print(\"La capitalisation boursière :\",cap_maroc)"
   ]
  },
  {
   "cell_type": "code",
   "execution_count": 13,
   "id": "e89345e1",
   "metadata": {},
   "outputs": [],
   "source": [
    "#BRVM"
   ]
  },
  {
   "cell_type": "code",
   "execution_count": 14,
   "id": "618ee0e0",
   "metadata": {},
   "outputs": [],
   "source": [
    "URL2 = 'https://www.brvm.org/fr/bulletins-officiels-de-la-cote'\n",
    "page2 = requests.get(URL2, headers={'User-Agent': 'Mozilla/5.0'})\n",
    "content = page2.content\n",
    "\n",
    "soup = BeautifulSoup(content, \"html.parser\")"
   ]
  },
  {
   "cell_type": "code",
   "execution_count": 15,
   "id": "2be78661",
   "metadata": {},
   "outputs": [
    {
     "name": "stdout",
     "output_type": "stream",
     "text": [
      "Le Volume du jour : 521 689 717 \n"
     ]
    }
   ],
   "source": [
    "#Volume\n",
    "\n",
    "section = soup.find(\"section\",{\"id\":\"block-multiblock-3\"})\n",
    "tbody = section.find(\"tbody\")\n",
    "trs = tbody.find_all(\"tr\")\n",
    "for tr in trs:\n",
    "    tr1 = trs[0]\n",
    "td = tr1.find_all(\"td\")\n",
    "vol_brvm = td[1].get_text()\n",
    "vol_brvm = vol_brvm.replace('FCFA','')\n",
    "print(\"Le Volume du jour :\",vol_brvm)"
   ]
  },
  {
   "cell_type": "code",
   "execution_count": 16,
   "id": "5b474766",
   "metadata": {},
   "outputs": [
    {
     "name": "stdout",
     "output_type": "stream",
     "text": [
      "La capitalisation boursière : 6 189 957 271 056 \n"
     ]
    }
   ],
   "source": [
    "#Capitalisation\n",
    "\n",
    "for tr in trs:\n",
    "    tr2 = trs[1]\n",
    "td = tr2.find_all(\"td\")\n",
    "cap_brvm = td[1].get_text()\n",
    "cap_brvm = cap_brvm.replace('FCFA', '')\n",
    "print(\"La capitalisation boursière :\",cap_brvm)"
   ]
  },
  {
   "cell_type": "code",
   "execution_count": 17,
   "id": "f5f9796a",
   "metadata": {},
   "outputs": [
    {
     "name": "stdout",
     "output_type": "stream",
     "text": [
      "BRVM-10 : 163,03\n"
     ]
    }
   ],
   "source": [
    "#Indices BRVM-10\n",
    "\n",
    "for tr in trs:\n",
    "    tr3 = trs[3]\n",
    "td = tr3.find_all(\"td\")\n",
    "tdi1 = td[1].get_text()\n",
    "print(\"BRVM-10 :\",tdi1)"
   ]
  },
  {
   "cell_type": "code",
   "execution_count": 18,
   "id": "7a23ea2d",
   "metadata": {},
   "outputs": [
    {
     "name": "stdout",
     "output_type": "stream",
     "text": [
      "BRVM-C : 205,63\n"
     ]
    }
   ],
   "source": [
    "#Indices BRVM-C\n",
    "\n",
    "for tr in trs:\n",
    "    tr4 = trs[4]\n",
    "td = tr4.find_all(\"td\")\n",
    "tdi2 = td[1].get_text()\n",
    "print(\"BRVM-C :\",tdi2)"
   ]
  },
  {
   "cell_type": "code",
   "execution_count": 19,
   "id": "97f08762",
   "metadata": {},
   "outputs": [],
   "source": [
    "#EGYPTE"
   ]
  },
  {
   "cell_type": "code",
   "execution_count": 20,
   "id": "8cfd9d95",
   "metadata": {},
   "outputs": [],
   "source": [
    "URL1 = 'https://www.egx.com.eg/en/MarketSummry.aspx'\n",
    "driver.delete_all_cookies()\n",
    "driver.get(URL1)\n",
    "time.sleep(3)"
   ]
  },
  {
   "cell_type": "code",
   "execution_count": 21,
   "id": "0f66eb7a",
   "metadata": {},
   "outputs": [
    {
     "name": "stdout",
     "output_type": "stream",
     "text": [
      "Le Volume du jour (LISTED): 1 554 552 835\n"
     ]
    }
   ],
   "source": [
    "#Volume LISTED\n",
    "\n",
    "vol1_egypte = driver.find_element(By.XPATH,\"//span[@id='ctl00_C_M_RpList_ctl00_lblList4']\")\n",
    "vol1_egypte = vol1_egypte.text\n",
    "vol1_egypte = vol1_egypte.replace(',',' ')\n",
    "print(\"Le Volume du jour (LISTED):\",vol1_egypte)"
   ]
  },
  {
   "cell_type": "code",
   "execution_count": 22,
   "id": "fc9a17de",
   "metadata": {},
   "outputs": [
    {
     "name": "stdout",
     "output_type": "stream",
     "text": [
      "Le Volume du jour (NILEX): 13 695 392\n"
     ]
    }
   ],
   "source": [
    "#Volume NILEX\n",
    "\n",
    "vol2_egypte = driver.find_element(By.XPATH,\"//span[@id='ctl00_C_M_RpSME_ctl00_lblList9']\")\n",
    "vol2_egypte = vol2_egypte.text\n",
    "vol2_egypte = vol2_egypte.replace(',',' ')\n",
    "print(\"Le Volume du jour (NILEX):\",vol2_egypte)"
   ]
  },
  {
   "cell_type": "code",
   "execution_count": 23,
   "id": "af6aaddc",
   "metadata": {},
   "outputs": [
    {
     "name": "stdout",
     "output_type": "stream",
     "text": [
      "La capitalisation boursière : 692 763 657 272\n"
     ]
    }
   ],
   "source": [
    "#Capitalisation\n",
    "\n",
    "cap_egypte = driver.find_element(By.XPATH,\"//span[@id='ctl00_C_M_lblCap']\")\n",
    "cap_egypte = cap_egypte.text\n",
    "cap_egypte = cap_egypte.replace(',',' ')\n",
    "print(\"La capitalisation boursière :\",cap_egypte)"
   ]
  },
  {
   "cell_type": "code",
   "execution_count": 24,
   "id": "f49e58e9",
   "metadata": {},
   "outputs": [],
   "source": [
    "#TANZANIA"
   ]
  },
  {
   "cell_type": "code",
   "execution_count": 25,
   "id": "06d282fe",
   "metadata": {},
   "outputs": [],
   "source": [
    "URL4 = 'https://dse.co.tz/'\n",
    "page4 = requests.get(URL4)\n",
    "content = page4.content\n",
    "\n",
    "soup = BeautifulSoup(content, \"html.parser\")"
   ]
  },
  {
   "cell_type": "code",
   "execution_count": 26,
   "id": "a4117cc4",
   "metadata": {},
   "outputs": [
    {
     "name": "stdout",
     "output_type": "stream",
     "text": [
      "La capitalisation boursière : 15852,13\n"
     ]
    }
   ],
   "source": [
    "#Capitalisation\n",
    "\n",
    "table = soup.find_all(\"table\",{\"class\":\"table table-bordered table-striped\"})\n",
    "table = table[1]\n",
    "trs = table.find_all(\"tr\")\n",
    "for tr in trs:\n",
    "    tr1 = trs[0]\n",
    "td = tr1.find_all(\"td\")\n",
    "cap_tanzania = td[1].get_text()\n",
    "cap_tanzania = cap_tanzania.replace('.',',')\n",
    "print(\"La capitalisation boursière :\",cap_tanzania)"
   ]
  },
  {
   "cell_type": "code",
   "execution_count": 27,
   "id": "cb5cd5b7",
   "metadata": {},
   "outputs": [
    {
     "name": "stdout",
     "output_type": "stream",
     "text": [
      "Le Volume du jour : 1 407 672 460,00\n"
     ]
    }
   ],
   "source": [
    "#Volume\n",
    "\n",
    "for tr in trs:\n",
    "    tr1 = trs[1]\n",
    "td = tr1.find_all(\"td\")\n",
    "vol_tanzania = td[1].get_text()\n",
    "vol_tanzania = vol_tanzania.replace(',',' ')\n",
    "vol_tanzania = vol_tanzania.replace('.', ',')\n",
    "print(\"Le Volume du jour :\",vol_tanzania)"
   ]
  },
  {
   "cell_type": "code",
   "execution_count": 28,
   "id": "05b5a063",
   "metadata": {},
   "outputs": [],
   "source": [
    "#Maurice"
   ]
  },
  {
   "cell_type": "code",
   "execution_count": 29,
   "id": "abbcd071",
   "metadata": {},
   "outputs": [
    {
     "name": "stdout",
     "output_type": "stream",
     "text": [
      "La capitalisation boursière (SEMDEX):  267 453 312 245,45 \n"
     ]
    }
   ],
   "source": [
    "#Capitalisation SEMDEX\n",
    "try:\n",
    "    URL5 = 'https://www.stockexchangeofmauritius.com/'\n",
    "    page5 = requests.get(URL5, headers={'User-Agent': 'Mozilla/5.0'})\n",
    "    content = page5.content\n",
    "    soup = BeautifulSoup(content, \"html.parser\")\n",
    "    divs = soup.find_all(\"div\",{\"class\":\"price\"})\n",
    "    cap1_maurice = divs[1].text\n",
    "except:\n",
    "    URL5 = 'https://www.stockexchangeofmauritius.com/'\n",
    "    page5 = requests.get(URL5, headers={'User-Agent': 'Mozilla/5.0'})\n",
    "    content = page5.content\n",
    "    soup = BeautifulSoup(content, \"html.parser\")\n",
    "    divs = soup.find_all(\"div\",{\"class\":\"price\"})\n",
    "    cap1_maurice = divs[1].text\n",
    "    \n",
    "cap1_maurice = cap1_maurice.replace(',', ' ')\n",
    "cap1_maurice = cap1_maurice.replace('.', ',')\n",
    "cap1_maurice = cap1_maurice.replace('Rs','')\n",
    "print(\"La capitalisation boursière (SEMDEX):\",cap1_maurice)"
   ]
  },
  {
   "cell_type": "code",
   "execution_count": 30,
   "id": "fa19c1df",
   "metadata": {},
   "outputs": [
    {
     "name": "stdout",
     "output_type": "stream",
     "text": [
      "Le Volume du jour (SEMDEX):  61 481 256,00\n"
     ]
    }
   ],
   "source": [
    "#Volume SEMDEX\n",
    "\n",
    "vol1_maurice = divs[4].text\n",
    "vol1_maurice = vol1_maurice.replace(',', ' ')\n",
    "vol1_maurice = vol1_maurice.replace('.', ',')\n",
    "vol1_maurice = vol1_maurice.replace('Rs','')\n",
    "print(\"Le Volume du jour (SEMDEX):\",vol1_maurice)"
   ]
  },
  {
   "cell_type": "code",
   "execution_count": 31,
   "id": "688ad90c",
   "metadata": {},
   "outputs": [
    {
     "name": "stdout",
     "output_type": "stream",
     "text": [
      "La capitalisation boursière (DEMEX):  48 954 741 694,23  \n"
     ]
    }
   ],
   "source": [
    "#capitalisation DEMEX\n",
    "\n",
    "cap2_maurice = divs[5].text\n",
    "cap2_maurice = cap2_maurice.replace(',', ' ')\n",
    "cap2_maurice = cap2_maurice.replace('.', ',')\n",
    "cap2_maurice = cap2_maurice.replace('Rs','')\n",
    "print(\"La capitalisation boursière (DEMEX):\",cap2_maurice)"
   ]
  },
  {
   "cell_type": "code",
   "execution_count": 32,
   "id": "73228159",
   "metadata": {},
   "outputs": [
    {
     "name": "stdout",
     "output_type": "stream",
     "text": [
      "Le Volume du jour (DEMEX):  1 339 461,50\n"
     ]
    }
   ],
   "source": [
    "#Volume DEMEX\n",
    "\n",
    "vol2_maurice = divs[7].text\n",
    "vol2_maurice = vol2_maurice.replace(',', ' ')\n",
    "vol2_maurice = vol2_maurice.replace('.', ',')\n",
    "vol2_maurice = vol2_maurice.replace('Rs','')\n",
    "print(\"Le Volume du jour (DEMEX):\",vol2_maurice)"
   ]
  },
  {
   "cell_type": "code",
   "execution_count": 33,
   "id": "f9f426b0",
   "metadata": {},
   "outputs": [
    {
     "name": "stdout",
     "output_type": "stream",
     "text": [
      "SEMDEX : 2 086,98 \n"
     ]
    }
   ],
   "source": [
    "#Indice SEMDEX\n",
    "\n",
    "divs = soup.find_all(\"div\",{\"class\":\"num\"})\n",
    "indice1_maurice = divs[0].text\n",
    "indice1_maurice = indice1_maurice.replace(',', ' ')\n",
    "indice1_maurice = indice1_maurice.replace('.', ',')\n",
    "print(\"SEMDEX :\",indice1_maurice)"
   ]
  },
  {
   "cell_type": "code",
   "execution_count": 34,
   "id": "7cfd2860",
   "metadata": {},
   "outputs": [
    {
     "name": "stdout",
     "output_type": "stream",
     "text": [
      "DEMEX : 279,99 \n"
     ]
    }
   ],
   "source": [
    "#Indice DEMEX\n",
    "\n",
    "indice2_maurice = divs[5].text\n",
    "indice2_maurice = indice2_maurice.replace(',', ' ')\n",
    "indice2_maurice = indice2_maurice.replace('.', ',')\n",
    "print(\"DEMEX :\",indice2_maurice)"
   ]
  },
  {
   "cell_type": "code",
   "execution_count": 35,
   "id": "d2d697ee",
   "metadata": {},
   "outputs": [],
   "source": [
    "#KENYA"
   ]
  },
  {
   "cell_type": "code",
   "execution_count": 36,
   "id": "41a03778",
   "metadata": {},
   "outputs": [
    {
     "name": "stderr",
     "output_type": "stream",
     "text": [
      "C:\\Users\\AQ\\anaconda3\\lib\\site-packages\\urllib3\\connectionpool.py:1013: InsecureRequestWarning: Unverified HTTPS request is being made to host 'www.nse.co.ke'. Adding certificate verification is strongly advised. See: https://urllib3.readthedocs.io/en/1.26.x/advanced-usage.html#ssl-warnings\n",
      "  warnings.warn(\n"
     ]
    }
   ],
   "source": [
    "URL6 = 'https://www.nse.co.ke/dataservices/market-statistics/'\n",
    "page6 = requests.get(URL6,  verify=False)\n",
    "content = page6.content\n",
    "\n",
    "soup = BeautifulSoup(content, \"html.parser\")"
   ]
  },
  {
   "cell_type": "code",
   "execution_count": 37,
   "id": "d6d4484b",
   "metadata": {},
   "outputs": [
    {
     "name": "stdout",
     "output_type": "stream",
     "text": [
      "La capitalisation boursière : 2163,00\n"
     ]
    }
   ],
   "source": [
    "#Capitalisation\n",
    "\n",
    "tbody2 = soup.find(\"tbody\")\n",
    "trs2 = tbody2.find_all(\"tr\")\n",
    "\n",
    "trs21 = trs2[3]\n",
    "tds2 = trs21.find_all(\"td\")\n",
    "cap_kenya = tds2[1].text\n",
    "cap_kenya = cap_kenya.replace(',', '')\n",
    "cap_kenya = cap_kenya.replace('.', ',')\n",
    "print(\"La capitalisation boursière :\",cap_kenya)"
   ]
  },
  {
   "cell_type": "code",
   "execution_count": 38,
   "id": "93ee2120",
   "metadata": {},
   "outputs": [
    {
     "name": "stdout",
     "output_type": "stream",
     "text": [
      "Le Volume du jour : 71 162 439,69\n"
     ]
    }
   ],
   "source": [
    "#Volume\n",
    "\n",
    "trs22 = trs2[5]\n",
    "tds22 = trs22.find_all(\"td\")\n",
    "vol_kenya = tds22[1].text\n",
    "vol_kenya = vol_kenya.replace(',', ' ')\n",
    "vol_kenya = vol_kenya.replace('.', ',')\n",
    "print(\"Le Volume du jour :\",vol_kenya)"
   ]
  },
  {
   "cell_type": "code",
   "execution_count": 39,
   "id": "6520e87a",
   "metadata": {},
   "outputs": [
    {
     "name": "stdout",
     "output_type": "stream",
     "text": [
      "NSE ALL SHARES : 138,79\n"
     ]
    }
   ],
   "source": [
    "#Indice NSE ALL SHARES\n",
    "\n",
    "trs23 = trs2[0]\n",
    "tds23 = trs23.find_all(\"td\")\n",
    "tds23 = tds23[1].text\n",
    "tds23 = tds23.replace(',', ' ')\n",
    "tds23 = tds23.replace('.', ',')\n",
    "print(\"NSE ALL SHARES :\",tds23)"
   ]
  },
  {
   "cell_type": "code",
   "execution_count": 40,
   "id": "e610a676",
   "metadata": {},
   "outputs": [
    {
     "name": "stdout",
     "output_type": "stream",
     "text": [
      "NSE 20 : 1 752,11\n"
     ]
    }
   ],
   "source": [
    "#Indice NSE 20\n",
    "\n",
    "trs24 = trs2[1]\n",
    "tds24 = trs24.find_all(\"td\")\n",
    "tds24 = tds24[1].text\n",
    "tds24 = tds24.replace(',', ' ')\n",
    "tds24 = tds24.replace('.', ',')\n",
    "print(\"NSE 20 :\",tds24)"
   ]
  },
  {
   "cell_type": "code",
   "execution_count": 41,
   "id": "77619f91",
   "metadata": {},
   "outputs": [],
   "source": [
    "#NIGERIA"
   ]
  },
  {
   "cell_type": "code",
   "execution_count": 42,
   "id": "be6d7868",
   "metadata": {},
   "outputs": [
    {
     "name": "stdout",
     "output_type": "stream",
     "text": [
      "La capitalisation boursière :  26785998179707,41\n"
     ]
    }
   ],
   "source": [
    "#Capitalsiation\n",
    "\n",
    "driver.delete_all_cookies()\n",
    "\n",
    "try:\n",
    "    URL7 = 'https://ngxgroup.com/#tab1'\n",
    "    driver.delete_all_cookies()\n",
    "    driver.get(URL7)\n",
    "    time.sleep(3)\n",
    "    cap_nigeria = driver.find_element(By.XPATH,\"//td[@id='snapshot_CAP']\").text\n",
    "except:\n",
    "    URL7 = 'https://ngxgroup.com/#tab1'\n",
    "    driver.delete_all_cookies()\n",
    "    driver.get(URL7)\n",
    "    time.sleep(3)\n",
    "    cap_nigeria = driver.find_element(By.XPATH,\"//td[@id='snapshot_CAP']\").text\n",
    "\n",
    "time.sleep(2)\n",
    "\n",
    "cap_nigeria = cap_nigeria.encode('ascii', 'ignore').decode(\"utf-8\")\n",
    "cap_nigeria = cap_nigeria.replace('N', '')\n",
    "print(\"La capitalisation boursière :\",cap_nigeria)"
   ]
  },
  {
   "cell_type": "code",
   "execution_count": 43,
   "id": "14fc27aa",
   "metadata": {},
   "outputs": [
    {
     "name": "stdout",
     "output_type": "stream",
     "text": [
      "Le Volume du jour :  2763577220,63\n"
     ]
    }
   ],
   "source": [
    "#Volume\n",
    "\n",
    "vol_nigeria = driver.find_element(By.XPATH,\"//td[@id='snapshot_VALUE']\").text\n",
    "vol_nigeria = vol_nigeria.encode('ascii', 'ignore').decode(\"utf-8\")\n",
    "vol_nigeria = vol_nigeria.replace('N', '')\n",
    "print(\"Le Volume du jour :\",vol_nigeria)"
   ]
  },
  {
   "cell_type": "code",
   "execution_count": 44,
   "id": "73034675",
   "metadata": {},
   "outputs": [],
   "source": [
    "driver.close()"
   ]
  },
  {
   "cell_type": "code",
   "execution_count": 45,
   "id": "92fa22e7",
   "metadata": {},
   "outputs": [],
   "source": [
    "# GHANA"
   ]
  },
  {
   "cell_type": "code",
   "execution_count": 46,
   "id": "2b300572",
   "metadata": {},
   "outputs": [
    {
     "name": "stderr",
     "output_type": "stream",
     "text": [
      "C:\\Users\\AQ\\anaconda3\\lib\\site-packages\\urllib3\\connectionpool.py:1013: InsecureRequestWarning: Unverified HTTPS request is being made to host 'gse.com.gh'. Adding certificate verification is strongly advised. See: https://urllib3.readthedocs.io/en/1.26.x/advanced-usage.html#ssl-warnings\n",
      "  warnings.warn(\n"
     ]
    }
   ],
   "source": [
    "URL8 = 'https://gse.com.gh/#1537892250859-9ee02099-32e0'\n",
    "page8 = requests.get(URL8,  verify=False)\n",
    "content = page8.content\n",
    "\n",
    "soup = BeautifulSoup(content, \"html.parser\")"
   ]
  },
  {
   "cell_type": "code",
   "execution_count": 47,
   "id": "3d48ec8a",
   "metadata": {},
   "outputs": [
    {
     "name": "stdout",
     "output_type": "stream",
     "text": [
      "GSE-CI = 2 485,63\n",
      "GSE-FSI = 2 034,82\n"
     ]
    }
   ],
   "source": [
    "#INDICES\n",
    "\n",
    "tab2 = soup.find_all(\"td\")\n",
    "ind1 = tab2[54].text\n",
    "ind1 = ind1.replace(',', ' ')\n",
    "ind1 = ind1.replace('.', ',')\n",
    "\n",
    "ind2 = tab2[55].text\n",
    "ind2 = ind2.replace(',', ' ')\n",
    "ind2 = ind2.replace('.', ',')\n",
    "\n",
    "print(\"GSE-CI =\", ind1)\n",
    "print(\"GSE-FSI =\", ind2)"
   ]
  },
  {
   "cell_type": "code",
   "execution_count": 48,
   "id": "8d58d16a",
   "metadata": {},
   "outputs": [
    {
     "name": "stderr",
     "output_type": "stream",
     "text": [
      "C:\\Users\\AQ\\anaconda3\\lib\\site-packages\\urllib3\\connectionpool.py:1013: InsecureRequestWarning: Unverified HTTPS request is being made to host 'gse.com.gh'. Adding certificate verification is strongly advised. See: https://urllib3.readthedocs.io/en/1.26.x/advanced-usage.html#ssl-warnings\n",
      "  warnings.warn(\n"
     ]
    }
   ],
   "source": [
    "URL8 = 'https://gse.com.gh/#1536473284009-27e069cc-0ff3'\n",
    "page8 = requests.get(URL8,  verify=False)\n",
    "content = page8.content\n",
    "\n",
    "soup = BeautifulSoup(content, \"html.parser\")"
   ]
  },
  {
   "cell_type": "code",
   "execution_count": 49,
   "id": "9b56c5a8",
   "metadata": {},
   "outputs": [
    {
     "name": "stdout",
     "output_type": "stream",
     "text": [
      "Le Volume du jour : 528 064\n"
     ]
    }
   ],
   "source": [
    "#Volume\n",
    "\n",
    "tab3 = soup.find_all(\"td\")\n",
    "n = 22\n",
    "while tab3[n].text == \"\":\n",
    "    n -= 5\n",
    "\n",
    "vol_ghana = tab3[n].text\n",
    "vol_ghana = vol_ghana.replace(',', ' ')\n",
    "vol_ghana = vol_ghana.replace('.', ',')\n",
    "print(\"Le Volume du jour :\", vol_ghana)"
   ]
  },
  {
   "cell_type": "code",
   "execution_count": 50,
   "id": "f1f1f63e",
   "metadata": {},
   "outputs": [
    {
     "name": "stdout",
     "output_type": "stream",
     "text": [
      "La capitalisation boursière : 63867,40\n"
     ]
    }
   ],
   "source": [
    "#Capitalisation\n",
    "\n",
    "m = 24\n",
    "while tab3[m].text == \"\":\n",
    "    m -= 5\n",
    "    \n",
    "cap_ghana = tab3[m].text\n",
    "cap_ghana = cap_ghana.replace(',', '')\n",
    "cap_ghana = cap_ghana.replace('.', ',')\n",
    "print(\"La capitalisation boursière :\", cap_ghana)"
   ]
  },
  {
   "cell_type": "code",
   "execution_count": 51,
   "id": "5b4310f3",
   "metadata": {},
   "outputs": [],
   "source": [
    "# AM EXCEL"
   ]
  },
  {
   "cell_type": "code",
   "execution_count": 52,
   "id": "f3571a10",
   "metadata": {},
   "outputs": [
    {
     "name": "stdout",
     "output_type": "stream",
     "text": [
      "\n",
      "AFRICAN MARKET REVIEW (EXCEL)\n",
      "\n",
      "Date : 2022-08-25\n",
      "\n",
      "Pleas check data about Tunisia here : http://www.bvmt.com.tn/fr/physionomie\n",
      "\n",
      "\n",
      "╒════════════════╤════════════════════╤══════════════════╕\n",
      "│                │         Market Cap │           Volume │\n",
      "╞════════════════╪════════════════════╪══════════════════╡\n",
      "│          MAROC │ 632 640 283 004,65 │    26 517 983,52 │\n",
      "├────────────────┼────────────────────┼──────────────────┤\n",
      "│        TUNISIE │                    │                  │\n",
      "├────────────────┼────────────────────┼──────────────────┤\n",
      "│           BRVM │  6 189 957 271 056 │      521 689 717 │\n",
      "├────────────────┼────────────────────┼──────────────────┤\n",
      "│  EGYPTE LISTED │    692 763 657 272 │    1 554 552 835 │\n",
      "├────────────────┼────────────────────┼──────────────────┤\n",
      "│   EGYPTE NILEX │                    │       13 695 392 │\n",
      "├────────────────┼────────────────────┼──────────────────┤\n",
      "│       TANZANIE │           15852,13 │ 1 407 672 460,00 │\n",
      "├────────────────┼────────────────────┼──────────────────┤\n",
      "│ MAURICE SEMDEX │ 267 453 312 245,45 │    61 481 256,00 │\n",
      "├────────────────┼────────────────────┼──────────────────┤\n",
      "│  MAURICE DEMEX │  48 954 741 694,23 │     1 339 461,50 │\n",
      "├────────────────┼────────────────────┼──────────────────┤\n",
      "│          KENYA │            2163,00 │    71 162 439,69 │\n",
      "├────────────────┼────────────────────┼──────────────────┤\n",
      "│        NIGERIA │  26785998179707,41 │    2763577220,63 │\n",
      "├────────────────┼────────────────────┼──────────────────┤\n",
      "│          GHANA │           63867,40 │          528 064 │\n",
      "╘════════════════╧════════════════════╧══════════════════╛\n",
      "╒══════════════════════╤═════════════╕\n",
      "│      MAURITIUS       │ TODAY PRICE │\n",
      "├──────────────────────┼─────────────┤\n",
      "│        SEMDEX        │  2 086,98   │\n",
      "├──────────────────────┼─────────────┤\n",
      "│        DEMEX         │   279,99    │\n",
      "├──────────────────────┼─────────────┤\n",
      "│        GHANA         │ TODAY PRICE │\n",
      "├──────────────────────┼─────────────┤\n",
      "│        GSE CI        │  2 485,63   │\n",
      "├──────────────────────┼─────────────┤\n",
      "│       GSE-FSI        │  2 034,82   │\n",
      "├──────────────────────┼─────────────┤\n",
      "│         BRVM         │ TODAY PRICE │\n",
      "├──────────────────────┼─────────────┤\n",
      "│       BRVM-10        │   163,03    │\n",
      "├──────────────────────┼─────────────┤\n",
      "│        BRVM-C        │   205,63    │\n",
      "├──────────────────────┼─────────────┤\n",
      "│        KENYA         │ TODAY PRICE │\n",
      "├──────────────────────┼─────────────┤\n",
      "│ NSE All Shares Index │   138,79    │\n",
      "├──────────────────────┼─────────────┤\n",
      "│     NSE Index 20     │  1 752,11   │\n",
      "╘══════════════════════╧═════════════╛\n"
     ]
    }
   ],
   "source": [
    "l = [[\"MAROC\", cap_maroc, vol_maroc], [\"TUNISIE\",'',''], [\"BRVM\", cap_brvm, vol_brvm],\n",
    "     [\"EGYPTE LISTED\", cap_egypte, vol1_egypte], [\"EGYPTE NILEX\",'', vol2_egypte], \n",
    "     [\"TANZANIE\", cap_tanzania, vol_tanzania], [\"MAURICE SEMDEX\", cap1_maurice, vol1_maurice],\n",
    "     [\"MAURICE DEMEX\", cap2_maurice, vol2_maurice], [\"KENYA\", cap_kenya, vol_kenya], \n",
    "     [\"NIGERIA\", cap_nigeria, vol_nigeria], [\"GHANA\", cap_ghana, vol_ghana]]\n",
    "\n",
    "col_names = ['', \"Market Cap\", \"Volume\"]\n",
    "\n",
    "table1 = tabulate(l, headers = col_names, tablefmt = \"fancy_grid\", stralign=\"right\")\n",
    "\n",
    "l2 = [[\"MAURITIUS\", \"TODAY PRICE\"], [\"SEMDEX\", indice1_maurice], [\"DEMEX\", indice2_maurice],\n",
    "      [\"GHANA\", \"TODAY PRICE\"], [\"GSE CI\", ind1], [\"GSE-FSI\", ind2], [\"BRVM\", \"TODAY PRICE\"],\n",
    "      [\"BRVM-10\", tdi1], [\"BRVM-C\", tdi2], [\"KENYA\", \"TODAY PRICE\"], [\"NSE All Shares Index\", tds23],\n",
    "      [\"NSE Index 20\", tds24]]\n",
    "\n",
    "table2 = tabulate(l2, tablefmt = \"fancy_grid\", stralign=\"center\")\n",
    "\n",
    "date = date.today()\n",
    "\n",
    "print(\"\\nAFRICAN MARKET REVIEW (EXCEL)\")\n",
    "print(\"\\nDate :\", date)\n",
    "print(\"\\nPleas check data about Tunisia here : http://www.bvmt.com.tn/fr/physionomie\")\n",
    "\n",
    "print(\"\\n\")\n",
    "print(table1)\n",
    "print(table2)"
   ]
  }
 ],
 "metadata": {
  "kernelspec": {
   "display_name": "Python 3 (ipykernel)",
   "language": "python",
   "name": "python3"
  },
  "language_info": {
   "codemirror_mode": {
    "name": "ipython",
    "version": 3
   },
   "file_extension": ".py",
   "mimetype": "text/x-python",
   "name": "python",
   "nbconvert_exporter": "python",
   "pygments_lexer": "ipython3",
   "version": "3.9.7"
  }
 },
 "nbformat": 4,
 "nbformat_minor": 5
}
